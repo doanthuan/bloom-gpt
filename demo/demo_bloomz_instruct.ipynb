{
 "cells": [
  {
   "cell_type": "code",
   "execution_count": 2,
   "id": "latin-python",
   "metadata": {
    "tags": []
   },
   "outputs": [
    {
     "name": "stdout",
     "output_type": "stream",
     "text": [
      "Collecting bitsandbytes\n",
      "  Downloading bitsandbytes-0.37.2-py3-none-any.whl (84.2 MB)\n",
      "\u001b[2K     \u001b[90m━━━━━━━━━━━━━━━━━━━━━━━━━━━━━━━━━━━━━━━━\u001b[0m \u001b[32m84.2/84.2 MB\u001b[0m \u001b[31m30.9 MB/s\u001b[0m eta \u001b[36m0:00:00\u001b[0m00:01\u001b[0m00:01\u001b[0m\n",
      "\u001b[?25hInstalling collected packages: bitsandbytes\n",
      "Successfully installed bitsandbytes-0.37.2\n",
      "\u001b[33mWARNING: Running pip as the 'root' user can result in broken permissions and conflicting behaviour with the system package manager. It is recommended to use a virtual environment instead: https://pip.pypa.io/warnings/venv\u001b[0m\u001b[33m\n",
      "\u001b[0m\u001b[33mWARNING: Running pip as the 'root' user can result in broken permissions and conflicting behaviour with the system package manager. It is recommended to use a virtual environment instead: https://pip.pypa.io/warnings/venv\u001b[0m\u001b[33m\n",
      "\u001b[0m\u001b[33m  WARNING: Did not find branch or tag 'c3dc391', assuming revision or ref.\u001b[0m\u001b[33m\n",
      "\u001b[0m\u001b[33mWARNING: Running pip as the 'root' user can result in broken permissions and conflicting behaviour with the system package manager. It is recommended to use a virtual environment instead: https://pip.pypa.io/warnings/venv\u001b[0m\u001b[33m\n",
      "\u001b[0m\u001b[33mWARNING: Running pip as the 'root' user can result in broken permissions and conflicting behaviour with the system package manager. It is recommended to use a virtual environment instead: https://pip.pypa.io/warnings/venv\u001b[0m\u001b[33m\n",
      "\u001b[0m"
     ]
    }
   ],
   "source": [
    "!pip install bitsandbytes\n",
    "!pip install -q datasets loralib sentencepiece\n",
    "!pip install -q git+https://github.com/huggingface/transformers.git\n",
    "!pip install -q git+https://github.com/huggingface/peft.git@64f63a7df2a02cfd144592d9aa9c871b59258c55\n",
    "!pip install gradio"
   ]
  },
  {
   "cell_type": "code",
   "execution_count": 1,
   "id": "horizontal-villa",
   "metadata": {
    "tags": []
   },
   "outputs": [
    {
     "name": "stdout",
     "output_type": "stream",
     "text": [
      "\n",
      "===================================BUG REPORT===================================\n",
      "Welcome to bitsandbytes. For bug reports, please submit your error trace to: https://github.com/TimDettmers/bitsandbytes/issues\n",
      "================================================================================\n",
      "CUDA_SETUP: WARNING! libcudart.so not found in any environmental path. Searching /usr/local/cuda/lib64...\n",
      "CUDA SETUP: CUDA runtime path found: /usr/local/cuda/lib64/libcudart.so\n",
      "CUDA SETUP: Highest compute capability among GPUs detected: 8.9\n",
      "CUDA SETUP: Detected CUDA version 117\n",
      "CUDA SETUP: Loading binary /opt/conda/lib/python3.10/site-packages/bitsandbytes/libbitsandbytes_cuda117.so...\n"
     ]
    },
    {
     "name": "stderr",
     "output_type": "stream",
     "text": [
      "/opt/conda/lib/python3.10/site-packages/bitsandbytes/cuda_setup/main.py:136: UserWarning: WARNING: The following directories listed in your path were found to be non-existent: {PosixPath('/usr/local/nvidia/lib'), PosixPath('/usr/local/nvidia/lib64')}\n",
      "  warn(msg)\n",
      "/opt/conda/lib/python3.10/site-packages/bitsandbytes/cuda_setup/main.py:136: UserWarning: /usr/local/nvidia/lib:/usr/local/nvidia/lib64 did not contain libcudart.so as expected! Searching further paths...\n",
      "  warn(msg)\n",
      "/opt/conda/lib/python3.10/site-packages/bitsandbytes/cuda_setup/main.py:136: UserWarning: WARNING: The following directories listed in your path were found to be non-existent: {PosixPath('//matplotlib_inline.backend_inline'), PosixPath('module')}\n",
      "  warn(msg)\n"
     ]
    }
   ],
   "source": [
    "from peft import PeftModel\n",
    "from transformers import AutoTokenizer, BloomForCausalLM\n",
    "import torch\n",
    "\n",
    "BASE_MODEL = \"bigscience/bloomz-7b1-mt\"\n",
    "LORA_WEIGHTS = \"bloomz-gpt\"\n",
    "\n",
    "tokenizer = AutoTokenizer.from_pretrained(BASE_MODEL)\n",
    "model = BloomForCausalLM.from_pretrained(\n",
    "    BASE_MODEL,\n",
    "    load_in_8bit=True,\n",
    "    torch_dtype=torch.float16,\n",
    "    device_map = {'': 0},\n",
    ")\n",
    "model = PeftModel.from_pretrained(model, LORA_WEIGHTS, device_map={'': 0})"
   ]
  },
  {
   "cell_type": "code",
   "execution_count": 2,
   "id": "documentary-garlic",
   "metadata": {
    "tags": []
   },
   "outputs": [],
   "source": [
    "def make_prompt(instruction):\n",
    "        return f\"\"\"Hãy viết một phản hồi thích hợp cho chỉ dẫn dưới đây.\n",
    "\n",
    "### Instruction:\n",
    "{instruction}\n",
    "\n",
    "### Response:\"\"\""
   ]
  },
  {
   "cell_type": "code",
   "execution_count": 3,
   "id": "false-kelly",
   "metadata": {
    "tags": []
   },
   "outputs": [],
   "source": [
    "def evaluate(q):\n",
    "    input_ids = tokenizer(make_prompt(q), return_tensors=\"pt\")[\"input_ids\"].to('cuda')\n",
    "    with torch.no_grad():\n",
    "        gen_tokens = model.generate(\n",
    "            input_ids=input_ids,\n",
    "            max_new_tokens = 256,\n",
    "            do_sample=True,\n",
    "            temperature=0.5,\n",
    "            top_k=20,\n",
    "            repetition_penalty=1.2,\n",
    "            #eos_token_id=0, # for open-end generation.\n",
    "            #pad_token_id=tokenizer.eos_token_id,\n",
    "        )\n",
    "    origin_output = tokenizer.batch_decode(gen_tokens)[0]\n",
    "    output = origin_output.split(\"### Response:\")[1].strip()\n",
    "    return output"
   ]
  },
  {
   "cell_type": "code",
   "execution_count": null,
   "id": "egyptian-depression",
   "metadata": {},
   "outputs": [],
   "source": [
    "# from transformers import GenerationConfig\n",
    "# generation_config = GenerationConfig(\n",
    "#     temperature=0.2,\n",
    "#     top_p=0.75,\n",
    "#     num_beams=4,\n",
    "# )\n",
    "\n",
    "# def evaluate(instruction):\n",
    "#   prompt = make_prompt(instruction)\n",
    "#   inputs = tokenizer(prompt, return_tensors=\"pt\")\n",
    "#   input_ids = inputs[\"input_ids\"].cuda()\n",
    "#   generation_output = model.generate(\n",
    "#       input_ids=input_ids,\n",
    "#       generation_config=generation_config,\n",
    "#       return_dict_in_generate=True,\n",
    "#       output_scores=True,\n",
    "#       max_new_tokens=256\n",
    "#   )\n",
    "#   for s in generation_output.sequences:\n",
    "#       output = tokenizer.decode(s)\n",
    "#       print(output)\n",
    "#       result = output.split(\"### Response:\")[1].strip()\n",
    "#       return result"
   ]
  },
  {
   "cell_type": "code",
   "execution_count": 4,
   "id": "amateur-entity",
   "metadata": {
    "tags": []
   },
   "outputs": [
    {
     "data": {
      "text/plain": [
       "'Alpacas là những con vật được nuôi để lấy lông, có nguồn gốc từ dãy núi Andes ở Nam Mỹ. Chúng thường cao khoảng 2 feet và nặng hơn 50 pound mỗi lần. Các nhà khoa học đã phát hiện ra rằng loại động vật này sinh sản rất nhanh chóng, với nhiều cặp giao phối trong năm đầu tiên của chúng.</s>'"
      ]
     },
     "execution_count": 4,
     "metadata": {},
     "output_type": "execute_result"
    }
   ],
   "source": [
    "evaluate(\"Nói cho tôi biết về alpaca\")"
   ]
  },
  {
   "cell_type": "code",
   "execution_count": 5,
   "id": "induced-plaza",
   "metadata": {
    "tags": []
   },
   "outputs": [
    {
     "data": {
      "text/plain": [
       "'Tổng thống của Mexico vào tháng 9 năm 2020 là Andrés Manuel López Obrador. Ông đã được bầu cử trong nhiệm kỳ thứ hai và trở thành người đầu tiên nắm giữ chức vụ này kể từ khi chính phủ quân sự cuối cùng kết thúc sau cuộc cách mạng giành độc lập khỏi thực dân Tây Ban Nha (1821). Lopez Obrador, đảng viên Đảng Cách mạng Công nhân, cũng từng làm thị trưởng Thành phố Mexico trước đó.\\nThành tựu nổi bật nhất mà ông theo đuổi trong suốt thời gian ở Nhà Trắng bao gồm việc loại bỏ các công ty dầu khí lớn như Repsol YPF và Sinopec ra khỏi đất nước, đồng ý với thỏa thuận hạt nhân lịch sử với Hoa Kỳ để đảm bảo điện năng an toàn hơn cho quốc gia, đưa vấn đề biến đổi khí hậu lên ưu tiên hàng đầu của mình, tăng lương'"
      ]
     },
     "execution_count": 5,
     "metadata": {},
     "output_type": "execute_result"
    }
   ],
   "source": [
    "evaluate(\"Kể cho tôi nghe về tổng thống Mexico năm 2019\")"
   ]
  },
  {
   "cell_type": "code",
   "execution_count": 6,
   "id": "widespread-maximum",
   "metadata": {
    "tags": []
   },
   "outputs": [
    {
     "data": {
      "text/plain": [
       "'Một ngày mưa, lá cây xào xạc,\\nĐất ẩm ướt và tôi đứng bên ngoài.\\nBầu trời xám xịt không có gì để nói về nó;\\nTôi cảm thấy như mình đang bị mắc kẹt trong bóng tối.</s>'"
      ]
     },
     "execution_count": 6,
     "metadata": {},
     "output_type": "execute_result"
    }
   ],
   "source": [
    "evaluate(\"Hãy sáng tác 1 bài thơ lục bát\")"
   ]
  },
  {
   "cell_type": "code",
   "execution_count": 7,
   "id": "opening-guest",
   "metadata": {
    "tags": []
   },
   "outputs": [
    {
     "data": {
      "text/plain": [
       "'Tôi có thể cung cấp các lời khuyên về cách tạo ra một bài hát rap thành công. Đầu tiên, hãy chắc chắn rằng bạn hiểu rõ chủ đề của mình và làm nổi bật nó trong giai điệu của bài hát bằng cách sử dụng sự kết hợp giữa âm thanh và hình ảnh để truyền tải thông điệp phù hợp với khán giả mục tiêu của bạn. Thứ hai, đừng quên nhấn mạnh vào phong thái của giọng nói - điều này sẽ khiến người nghe quan tâm hơn đến câu chuyện mà bạn đang muốn kể! Cuối cùng, hãy thử nghiệm nhiều bản phối khác nhau trên mẫu hoặc bảng nhịp trước khi đưa mọi thứ lên sân khấu và tận hưởng niềm vui của việc phát triển sản phẩm cuối cùng của riêng bạn!</s>'"
      ]
     },
     "execution_count": 7,
     "metadata": {},
     "output_type": "execute_result"
    }
   ],
   "source": [
    "evaluate(\"Hãy sáng tác giúp tôi 1 bài nhạc rap\")"
   ]
  },
  {
   "cell_type": "code",
   "execution_count": 8,
   "id": "plastic-letter",
   "metadata": {
    "tags": []
   },
   "outputs": [
    {
     "data": {
      "text/plain": [
       "'Một chế độ ăn uống lành mạnh có thể giúp bạn trông và cảm thấy tốt hơn. Nó bao gồm trái cây, rau quả, protein nạc (như gà hoặc cá), ngũ cốc nguyên hạt và các loại thực phẩm chứa chất chống oxy hóa khác nhau như cà rốt và việt quất. Điều quan trọng là phải tránh đồ ngọt và quá nhiều chất béo bão hòa cũng được tìm thấy trong thịt đỏ và chiên.</s>'"
      ]
     },
     "execution_count": 8,
     "metadata": {},
     "output_type": "execute_result"
    }
   ],
   "source": [
    "evaluate(\"ăn gì cho đẹp da\")"
   ]
  },
  {
   "cell_type": "code",
   "execution_count": 9,
   "id": "amazing-clark",
   "metadata": {
    "tags": []
   },
   "outputs": [
    {
     "data": {
      "text/plain": [
       "'Ngày của Mẹ được tổ chức vào thứ bảy đầu tiên sau Ngày sinh nhật, theo lịch năm 2021.</s>'"
      ]
     },
     "execution_count": 9,
     "metadata": {},
     "output_type": "execute_result"
    }
   ],
   "source": [
    "evaluate(\"ngày của mẹ là ngày mấy?\")"
   ]
  },
  {
   "cell_type": "code",
   "execution_count": 10,
   "id": "warming-fleet",
   "metadata": {
    "tags": []
   },
   "outputs": [
    {
     "data": {
      "text/plain": [
       "'Để làm đồ ăn nhẹ, hãy trộn kem chua với sữa và đường. Đổ hỗn hợp vào khuôn bánh quy hoặc cốc thủy tinh và để đông lạnh trong ít nhất 3-4 giờ trước khi lấy ra khỏi tủ đá bằng dao kéo cứng. Để nó phục vụ trên khăn giấy ẩm được lót khay nướng.</s>'"
      ]
     },
     "execution_count": 10,
     "metadata": {},
     "output_type": "execute_result"
    }
   ],
   "source": [
    "evaluate(\"cách nấu món rau câu?\")"
   ]
  },
  {
   "cell_type": "code",
   "execution_count": 11,
   "id": "engaging-jefferson",
   "metadata": {
    "tags": []
   },
   "outputs": [
    {
     "data": {
      "text/plain": [
       "'Xin chào [Tên]! Tôi là [Tên] và tôi đang cố gắng tìm ra cách tốt nhất để gửi tin nhắn điện tử đến các liên hệ cá nhân. Có điều gì khác mà chúng ta có thể làm trong thời gian này không?</s>'"
      ]
     },
     "execution_count": 11,
     "metadata": {},
     "output_type": "execute_result"
    }
   ],
   "source": [
    "evaluate(\"Nếu bạn có thể giúp tôi viết một email mời bạn bè của tôi đi ăn tối vào thứ Sáu, tôi sẽ rất cảm kích.\")"
   ]
  },
  {
   "cell_type": "code",
   "execution_count": 12,
   "id": "respected-class",
   "metadata": {
    "tags": []
   },
   "outputs": [
    {
     "data": {
      "text/plain": [
       "'Bộ phim được thực hiện bởi nhà làm phim người Ba Lan, Andrzej Sapkowski và dựa trên cuốn sách cùng tên của anh ấy. Bộ phim kể câu chuyện của Geralt of Rivia - Một hiệp sĩ ma thuật mạnh mẽ sống ở xứ Wales với ước mơ trở thành thợ săn huyền thoại của mình khi giết chết những con rồng khổng lồ tàn nhẫn. Trong quá trình tìm kiếm sự thật ẩn giấu trong cuộc đời ông, cô đã gặp phải nhiều kẻ thù khác nhau như Grimbold, Orc và cả Wiglaf, thủ lĩnh băng giá lạnh lùng nhất mà nhân loại từng biết đến. Phim là một pha trộn độc đáo giữa các diễn viên lồng tiếng chuyên nghiệp và tài tử truyền cảm hứng từ nền văn học châu Âu cổ điển.</s>'"
      ]
     },
     "execution_count": 12,
     "metadata": {},
     "output_type": "execute_result"
    }
   ],
   "source": [
    "evaluate(\"Viết một đoạn mô tả ngắn về bộ phim: The Witcher (2019)\")"
   ]
  },
  {
   "cell_type": "code",
   "execution_count": 14,
   "id": "controlling-leone",
   "metadata": {
    "tags": []
   },
   "outputs": [
    {
     "data": {
      "text/plain": [
       "'Tôi yêu bạn.</s>'"
      ]
     },
     "execution_count": 14,
     "metadata": {},
     "output_type": "execute_result"
    }
   ],
   "source": [
    "evaluate(\"Dịch sang tiếng Việt: Je t’aime.\")"
   ]
  },
  {
   "cell_type": "code",
   "execution_count": 17,
   "id": "superior-force",
   "metadata": {
    "tags": []
   },
   "outputs": [
    {
     "data": {
      "text/plain": [
       "'1. Mạng thần kinh - mô hình mạng, học máy và các ứng dụng khác.\\n2 . Nền tảng nghiên cứu trí tuệ nhân tạo (AI) như Google DeepMind AI Platform hoặc TensorFlow\\n3. Mã hóa神经 khoa học - kiến \\u200b\\u200bthức về mã hóa dữ liệu và cách nó liên quan đến việc xây dựng hệ thống AI.\\n4. Trí tuệ nhân tạo trong lĩnh vực y tế - Hệ thống hỗ trợ chẩn đoán bệnh tự động dựa trên cơ sở dữ liệu lớn có thể được sử dụng để phát hiện sớm nhiều loại ung thư.\\n5. Machine Learning với Python - Một ngôn ngữ lập trình phổ biến cho người mới bắt đầu và chuyên gia ML</s>'"
      ]
     },
     "execution_count": 17,
     "metadata": {},
     "output_type": "execute_result"
    }
   ],
   "source": [
    "evaluate(\"Suggest at least five related search terms to \\\"Mạng neural nhân tạo\\\"\")"
   ]
  },
  {
   "cell_type": "code",
   "execution_count": 19,
   "id": "absent-language",
   "metadata": {
    "tags": []
   },
   "outputs": [
    {
     "data": {
      "text/plain": [
       "'Life means to live an active, productive, and fulfilling lifestyle. Life can be defined as a series of experiences that we have throughout our lifetime with others and ourselves. This includes things like family relationships, friendships, work, education, spirituality, leisure time, hobbies, health care, physical activity, personal growth, và more. The purpose of life is ultimately about being happy with what you are doing on your own terms.</s>'"
      ]
     },
     "execution_count": 19,
     "metadata": {},
     "output_type": "execute_result"
    }
   ],
   "source": [
    "evaluate(\"What is the meaning of life? Explain it in 5 paragraphs.\")"
   ]
  },
  {
   "cell_type": "code",
   "execution_count": 18,
   "id": "earned-grass",
   "metadata": {
    "tags": []
   },
   "outputs": [
    {
     "data": {
      "text/plain": [
       "'Một ngày nọ, ở nơi nào đó trên thế giới có một cô gái xinh đẹp tên là Belle đã bị bắt cóc bởi rồng hung dữ và bị giam giữ trong lâu đài của mình để cứu nó khỏi cái chết.\\nKhi thấy tình hình trở nên tồi tệ hơn khi không thể tìm ra con đường thoát thân khác ngoài việc hy sinh bản thân anh ta vì người mà anh ấy yêu thương nhất - nàng tiên nữ nhỏ bé này, ông quyết định mạo hiểm vào những nguy hiểm lớn lao để bảo vệ người phụ nữ đáng yêu của mình với sự giúp đỡ từ nhiều bạn bè cũ của mình như Trolls'"
      ]
     },
     "execution_count": 18,
     "metadata": {},
     "output_type": "execute_result"
    }
   ],
   "source": [
    "evaluate(\"Write a fairy tale about a troll saving a princess from a dangerous dragon. The fairy tale is a masterpiece that has achieved praise worldwide and its moral is \\\"Heroes Come in All Shapes and Sizes\\\". Story (in Spanish):\")"
   ]
  },
  {
   "cell_type": "code",
   "execution_count": 4,
   "id": "wired-automation",
   "metadata": {
    "tags": []
   },
   "outputs": [
    {
     "name": "stdout",
     "output_type": "stream",
     "text": [
      "Running on local URL:  http://127.0.0.1:7860\n",
      "Running on public URL: https://3cd5bf307a51096da2.gradio.live\n",
      "\n",
      "This share link expires in 72 hours. For free permanent hosting and GPU upgrades (NEW!), check out Spaces: https://huggingface.co/spaces\n"
     ]
    },
    {
     "data": {
      "text/html": [
       "<div><iframe src=\"https://3cd5bf307a51096da2.gradio.live\" width=\"100%\" height=\"500\" allow=\"autoplay; camera; microphone; clipboard-read; clipboard-write;\" frameborder=\"0\" allowfullscreen></iframe></div>"
      ],
      "text/plain": [
       "<IPython.core.display.HTML object>"
      ]
     },
     "metadata": {},
     "output_type": "display_data"
    },
    {
     "data": {
      "text/plain": []
     },
     "execution_count": 4,
     "metadata": {},
     "output_type": "execute_result"
    }
   ],
   "source": [
    "#@title GUI\n",
    "import gradio as gr\n",
    "examples = [\n",
    "    [\"Dịch sang tiếng việt: Je t’aime.\"],\n",
    "    [\"Suggest at least five related search terms to \\\"Mạng neural nhân tạo\\\".\"],\n",
    "    [\"Write a fairy tale about a troll saving a princess from a dangerous dragon. The fairy tale is a masterpiece that has achieved praise worldwide and its moral is \\\"Heroes Come in All Shapes and Sizes\\\". Story (in Vietnamese):\"],\n",
    "    [\"Nói cho tôi biết về alpaca\"],\n",
    "    [\"Viết một đoạn mô tả ngắn về bộ phim đã cho: The Witcher (2019)\"],\n",
    "    [\"Write a Python program that prints the first 10 Fibonacci numbers.\"],\n",
    "    [\"Ăn gì cho đẹp da\"],\n",
    "    [\"Sản phẩm này tốt lắm. Bạn sẽ đánh giá câu trên là tích cực, trung lập hay tiêu cực?\"],\n",
    "    [\"Hãy sáng tác 1 bài thơ lục bát về biển cả\"],\n",
    "    [\"ngày của mẹ là ngày mấy?\"],\n",
    "    [\"cách nấu món rau câu\"],\n",
    "    [\"hãy lên kế hoạch đi Đà Lạt trong 3 ngày cho tôi\"],\n",
    "    [\"liệt kê mẫu son môi hot nhất hiện nay\"],\n",
    "    [\"liệt kê những bài hát của Ưng Hoàng Phúc\"],\n",
    "    [\"Viết một email mời bạn bè của tôi đi ăn tối vào thứ Sáu\"],\n",
    "    [\"\\\"Read csv file using pandas and display first ten rows\\\" Please write code following the instructions in jupyter notebook style.\"],\n",
    "    [\"ngày nhà giáo việt nam là ngày bao nhiêu\"],\n",
    "    [\"Ý nghĩa của cuộc sống là gì?\"],\n",
    "    [\"Q: Can Obama have a conversation with George Washington? Give the rationale before answering\"],\n",
    "    [\"Q: Obama có thể nói chuyện với George Washington không? Đưa ra lý do trước khi trả lời\"],\n",
    "    [\"Đề xuất một số hoạt động hữu ích hoặc cách bắt đầu cuộc trò chuyện để sử dụng tại các buổi gặp mặt nhằm phá vỡ khoảng cách.\"],\n",
    "]\n",
    "\n",
    "title = \"Bloomz-GPT\"\n",
    "\n",
    "\n",
    "def inference(instruction):\n",
    "  return evaluate(instruction)\n",
    "\n",
    "io = gr.Interface(\n",
    "  inference,\n",
    "  inputs=[gr.Textbox(lines=3)],\n",
    "  outputs=[\n",
    "    gr.Textbox(lines=3, label=\"GPT-J Demo\")\n",
    "  ],\n",
    "  title=title,\n",
    "  examples=examples\n",
    ")\n",
    "io.launch(share=True)"
   ]
  },
  {
   "cell_type": "code",
   "execution_count": null,
   "id": "realistic-bankruptcy",
   "metadata": {},
   "outputs": [],
   "source": []
  },
  {
   "cell_type": "code",
   "execution_count": null,
   "id": "extended-portal",
   "metadata": {},
   "outputs": [],
   "source": []
  }
 ],
 "metadata": {
  "kernelspec": {
   "display_name": "Python 3",
   "language": "python",
   "name": "python3"
  },
  "language_info": {
   "codemirror_mode": {
    "name": "ipython",
    "version": 3
   },
   "file_extension": ".py",
   "mimetype": "text/x-python",
   "name": "python",
   "nbconvert_exporter": "python",
   "pygments_lexer": "ipython3",
   "version": "3.8.0"
  }
 },
 "nbformat": 4,
 "nbformat_minor": 5
}
